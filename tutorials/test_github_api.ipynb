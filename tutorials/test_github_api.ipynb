{
 "cells": [
  {
   "cell_type": "code",
   "execution_count": null,
   "metadata": {},
   "outputs": [],
   "source": [
    "import os\n",
    "from ghproject import GitHubAPI"
   ]
  },
  {
   "cell_type": "code",
   "execution_count": null,
   "metadata": {},
   "outputs": [],
   "source": [
    "# Retrieve GitHub username and token from environment variables\n",
    "user = os.environ[\"GITHUB_USER\"]\n",
    "token = os.environ[\"GITHUB_TOKEN\"]\n",
    "\n",
    "# This step requires the repository to exist\n",
    "repo = GitHubAPI(repo_name=\"test\", repo_owner=user, github_token=token)"
   ]
  },
  {
   "cell_type": "code",
   "execution_count": null,
   "metadata": {},
   "outputs": [],
   "source": [
    "# Retrieve and display projects in the repository\n",
    "repo.get_projects()\n",
    "repo.projects"
   ]
  },
  {
   "cell_type": "code",
   "execution_count": null,
   "metadata": {},
   "outputs": [],
   "source": [
    "# Retrieve and display issues in the repository\n",
    "repo.get_issues()\n",
    "repo.issues"
   ]
  },
  {
   "cell_type": "code",
   "execution_count": null,
   "metadata": {},
   "outputs": [],
   "source": [
    "repo.load_markdown_files(path=\"../md_files\")"
   ]
  },
  {
   "cell_type": "code",
   "execution_count": null,
   "metadata": {},
   "outputs": [],
   "source": [
    "repo.push_project(project_name=\"FAIR Software\")"
   ]
  },
  {
   "cell_type": "code",
   "execution_count": null,
   "metadata": {},
   "outputs": [],
   "source": [
    "# Retrieve and display projects in the repository to verify upload\n",
    "repo.get_projects()\n",
    "repo.projects"
   ]
  },
  {
   "cell_type": "code",
   "execution_count": null,
   "metadata": {},
   "outputs": [],
   "source": [
    "# Upload issues to repository\n",
    "repo.push_issues()"
   ]
  },
  {
   "cell_type": "code",
   "execution_count": null,
   "metadata": {},
   "outputs": [],
   "source": [
    "# Retrieve and display issues in the repository to verify upload\n",
    "repo.get_issues()\n",
    "repo.issues"
   ]
  },
  {
   "cell_type": "code",
   "execution_count": null,
   "metadata": {},
   "outputs": [],
   "source": [
    "repo.add_issues_to_project(project_name=\"FAIR Software\")"
   ]
  }
 ],
 "metadata": {
  "interpreter": {
   "hash": "fdb37610107fbc9730a738174bb5bafaabf4ebf4d3f01b4c826144ef43629eaa"
  },
  "kernelspec": {
   "display_name": "Python 3.8.5 64-bit ('base': conda)",
   "language": "python",
   "name": "python3"
  },
  "language_info": {
   "codemirror_mode": {
    "name": "ipython",
    "version": 3
   },
   "file_extension": ".py",
   "mimetype": "text/x-python",
   "name": "python",
   "nbconvert_exporter": "python",
   "pygments_lexer": "ipython3",
   "version": "3.8.12"
  },
  "orig_nbformat": 4
 },
 "nbformat": 4,
 "nbformat_minor": 2
}
