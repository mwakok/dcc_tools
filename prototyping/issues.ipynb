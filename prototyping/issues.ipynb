{
 "cells": [
  {
   "cell_type": "markdown",
   "metadata": {},
   "source": [
    "## Example full process\n",
    "\n",
    "1. Get parameters\n",
    "1. Create project board and get id\n",
    "1. Create columns in project board\n",
    "1. Create issues and get ids\n",
    "1. Create cards with issues in project board"
   ]
  },
  {
   "cell_type": "code",
   "execution_count": 55,
   "metadata": {},
   "outputs": [],
   "source": [
    "# Get parameters\n",
    "import os\n",
    "from requests import request\n",
    "import json\n",
    "import glob\n",
    "import time\n",
    "\n",
    "# GitHub authentication\n",
    "USERNAME = os.environ[\"GITHUB_USER\"]\n",
    "TOKEN = os.environ[\"GITHUB_TOKEN\"]\n",
    "\n",
    "# The repository to add this issue to\n",
    "REPO_OWNER = USERNAME\n",
    "REPO_NAME = \"test\"\n",
    "\n",
    "headers = {\"Authorization\": f\"token {TOKEN}\",\n",
    "            \"Accept\": \"application/vnd.github.v3+json\",\n",
    "        } "
   ]
  },
  {
   "cell_type": "code",
   "execution_count": 54,
   "metadata": {},
   "outputs": [],
   "source": [
    "def convert_md(file):\n",
    "    \"\"\"[summary]\n",
    "\n",
    "    Parameters\n",
    "    ----------\n",
    "    file : [type]\n",
    "        [description]\n",
    "\n",
    "    Returns\n",
    "    -------\n",
    "    [type]\n",
    "        [description]\n",
    "    \"\"\"\n",
    "\n",
    "\n",
    "    with open(file, 'r') as f:\n",
    "        text = f.read()\n",
    "\n",
    "        # Get title\n",
    "        title = text.split(\"\\n\", 2)[:1]\n",
    "        title = title[0].replace(\"# \", \"\")\n",
    "\n",
    "        # Remove title from content and store\n",
    "        contents = text.split(\"\\n\", 2)[2]\n",
    "    \n",
    "    return title, contents\n",
    "\n",
    "def get_issues(repo_owner, repo_name, titles):\n",
    "    id_issues = []\n",
    "    url_get_issues = f\"https://api.github.com/repos/{repo_owner}/{repo_name}/issues\"\n",
    "    r = request(\"GET\", url_get_issues, headers=headers)\n",
    "    issues = json.loads(r.content)\n",
    "\n",
    "    for issue in issues:\n",
    "        if issue[\"title\"] in titles:\n",
    "            id_issues.append(issue[\"id\"])\n",
    "\n",
    "    return id_issues\n",
    "\n"
   ]
  },
  {
   "cell_type": "code",
   "execution_count": 60,
   "metadata": {},
   "outputs": [],
   "source": [
    "# Create project board\n",
    "url_project = f\"https://api.github.com/repos/{REPO_OWNER}/{REPO_NAME}/projects\"\n",
    "\n",
    "data = {\"name\": \"FAIR Software\"}\n",
    "payload = json.dumps(data)\n",
    "r = request(\"POST\", url=url_project, data=payload, headers=headers)\n",
    "id_project = json.loads(r.content)[\"id\"]\n",
    "\n",
    "\n",
    "# Create columns\n",
    "url_columns = f\"https://api.github.com/projects/{id_project}/columns\"\n",
    "columns = [\"To do\", \"In progress\", \"Done\"]\n",
    "\n",
    "for column in columns:\n",
    "    data = {\"name\": column}\n",
    "    payload = json.dumps(data)\n",
    "    r = request(\"POST\", url=url_columns, data=payload, headers=headers)\n",
    "    if column == \"To do\":\n",
    "        id_column = json.loads(r.content)[\"id\"]\n",
    "\n",
    "\n",
    "# Create issues\n",
    "url_post_issues = f\"https://api.github.com/repos/{REPO_OWNER}/{REPO_NAME}/import/issues\"\n",
    "titles = []\n",
    "files = glob.glob(\"../issues/*.md\")\n",
    "labels = [\"documentation\", \"DCC Support\"]\n",
    "\n",
    "for file in files:\n",
    "    [title, contents] = convert_md(file)\n",
    "    titles.append(title)\n",
    "    data = {\n",
    "        \"issue\": {\n",
    "            \"title\": title,\n",
    "            \"body\": contents,\n",
    "            \"closed\": False,\n",
    "            \"labels\": labels\n",
    "        }\n",
    "    }\n",
    "    payload = json.dumps(data)\n",
    "    r = request(\"POST\", url=url_post_issues, data=payload, headers=headers)\n",
    "    assert r.status_code == 202, f\"Could not upload issue '{title}'\"\n",
    "\n",
    "\n",
    "# Get issue id's\n",
    "while len(id_issues) != len(titles):\n",
    "    time.sleep(1)\n",
    "    id_issues = get_issues(repo_owner=REPO_OWNER, repo_name=REPO_NAME, titles=titles)\n",
    "\n",
    "# Move issues\n",
    "url_cards = f\"https://api.github.com/projects/columns/{id_column}/cards\"\n",
    "for id in id_issues:\n",
    "    data = {\"content_type\":\"Issue\", \"content_id\": id}\n",
    "    payload = json.dumps(data)\n",
    "    r = request(\"POST\", url=url_cards, data=payload, headers=headers)\n"
   ]
  },
  {
   "cell_type": "code",
   "execution_count": 58,
   "metadata": {},
   "outputs": [
    {
     "data": {
      "text/plain": [
       "202"
      ]
     },
     "execution_count": 58,
     "metadata": {},
     "output_type": "execute_result"
    }
   ],
   "source": [
    "r.status_code\n"
   ]
  },
  {
   "cell_type": "code",
   "execution_count": 53,
   "metadata": {},
   "outputs": [
    {
     "data": {
      "text/plain": [
       "5"
      ]
     },
     "execution_count": 53,
     "metadata": {},
     "output_type": "execute_result"
    }
   ],
   "source": [
    "len(issues)"
   ]
  },
  {
   "cell_type": "code",
   "execution_count": 41,
   "metadata": {},
   "outputs": [
    {
     "name": "stdout",
     "output_type": "stream",
     "text": [
      "[1086282150, 1086282147, 1086282144]\n"
     ]
    }
   ],
   "source": [
    "url = f\"https://api.github.com/repos/{REPO_OWNER}/{REPO_NAME}/issues\"\n",
    "\n",
    "response = request(\"GET\", url, headers=headers)\n",
    "issues = json.loads(response.content)\n",
    "\n",
    "titles = []\n",
    "for file in files:\n",
    "    [title, contents] = convert_md(file)\n",
    "    titles.append(title)\n",
    "\n",
    "\n",
    "issue_ids = []\n",
    "# Collect issue id's\n",
    "for issue in issues:\n",
    "    if issue[\"title\"] in titles:\n",
    "        issue_ids.append(issue[\"id\"])\n",
    "\n",
    "\n",
    "print(issue_ids)"
   ]
  },
  {
   "cell_type": "code",
   "execution_count": 34,
   "metadata": {},
   "outputs": [
    {
     "name": "stdout",
     "output_type": "stream",
     "text": [
      "b'{\"message\":\"Validation Failed\",\"errors\":[{\"resource\":\"ProjectCard\",\"code\":\"unprocessable\",\"field\":\"data\",\"message\":\"Could not resolve to a node with the global id of \\'MDU6SXNzdWU0NDUzMDM4\\'.\"}],\"documentation_url\":\"https://docs.github.com/v3/projects/cards/#create-a-project-card\"}'\n",
      "b'{\"message\":\"Validation Failed\",\"errors\":[{\"resource\":\"ProjectCard\",\"code\":\"unprocessable\",\"field\":\"data\",\"message\":\"contentID must refer to an issue or pull request in the same repository as the project\"}],\"documentation_url\":\"https://docs.github.com/v3/projects/cards/#create-a-project-card\"}'\n",
      "b'{\"message\":\"Validation Failed\",\"errors\":[{\"resource\":\"ProjectCard\",\"code\":\"unprocessable\",\"field\":\"data\",\"message\":\"Could not resolve to a node with the global id of \\'MDU6SXNzdWU0NDUzMDQw\\'.\"}],\"documentation_url\":\"https://docs.github.com/v3/projects/cards/#create-a-project-card\"}'\n"
     ]
    }
   ],
   "source": [
    "# Move issues\n",
    "url_cards = f\"https://api.github.com/projects/columns/{id_column}/cards\"\n",
    "for i in id_issues:\n",
    "    data = {\"content_type\":\"Issue\", \"content_id\": i}\n",
    "    payload = json.dumps(data)\n",
    "    r = request(\"POST\", url=url_cards, data=payload, headers=headers)\n",
    "    print(r.content)"
   ]
  },
  {
   "cell_type": "markdown",
   "metadata": {},
   "source": [
    "Create a new project"
   ]
  },
  {
   "cell_type": "code",
   "execution_count": 8,
   "metadata": {},
   "outputs": [],
   "source": [
    "def create_project(project_name=\"FAIR software\"):\n",
    "\n",
    "    url = f\"https://api.github.com/repos/{REPO_OWNER}/{REPO_NAME}/projects\"\n",
    "\n",
    "    headers = {\n",
    "        \"Authorization\": f\"token {TOKEN}\",\n",
    "        \"Accept\": \"application/vnd.github.v3+json\",\n",
    "    }\n",
    "\n",
    "    data = {\"name\": project_name}\n",
    "    payload = json.dumps(data)\n",
    "    post_request(url, payload, headers)\n",
    "\n",
    "\n",
    "\n",
    "\n",
    "def post_request(url, payload, headers):\n",
    "    \"\"\"Post request to GitHub\n",
    "\n",
    "    Parameters\n",
    "    ----------\n",
    "    url : str\n",
    "        [description]\n",
    "    payload : json\n",
    "        [description]\n",
    "    headers : dict\n",
    "        [description]\n",
    "    \"\"\"\n",
    "\n",
    "    response = request(\"POST\", url, data=payload, headers=headers)\n",
    "    if response.status_code == 201:\n",
    "        print('Successfully posted the request') \n",
    "    else:\n",
    "        print('Could post the request')\n",
    "        print(\"Response:\", response.content)\n",
    "\n",
    "\n"
   ]
  },
  {
   "cell_type": "code",
   "execution_count": 9,
   "metadata": {},
   "outputs": [
    {
     "name": "stdout",
     "output_type": "stream",
     "text": [
      "Successfully posted the request\n"
     ]
    }
   ],
   "source": [
    "# Create project\n",
    "create_project()"
   ]
  },
  {
   "cell_type": "markdown",
   "metadata": {},
   "source": [
    "### Retrieve info from GitHub"
   ]
  },
  {
   "cell_type": "code",
   "execution_count": null,
   "metadata": {},
   "outputs": [],
   "source": [
    "def get_issues():\n",
    "    \"\"\"[summary]\n",
    "\n",
    "    Returns\n",
    "    -------\n",
    "    [type]\n",
    "        [description]\n",
    "    \"\"\"\n",
    "    url = f\"https://api.github.com/repos/{REPO_OWNER}/{REPO_NAME}/issues\"\n",
    "\n",
    "    headers = {\n",
    "        \"Authorization\": f\"token {TOKEN}\",\n",
    "        \"Accept\": \"application/vnd.github.v3+json\",\n",
    "    }\n",
    "\n",
    "    response = request(\"GET\", url, headers=headers)\n",
    "    if response.status_code == 200:\n",
    "        return json.loads(response.content)\n",
    "    else:\n",
    "        return None\n",
    "\n",
    "\n",
    "def get_projects():\n",
    "    \"\"\"[summary]\n",
    "\n",
    "    Returns\n",
    "    -------\n",
    "    [type]\n",
    "        [description]\n",
    "    \"\"\"\n",
    "    url = f\"https://api.github.com/repos/{REPO_OWNER}/{REPO_NAME}/projects\"\n",
    "\n",
    "    headers = {\n",
    "        \"Authorization\": f\"token {TOKEN}\",\n",
    "        \"Accept\": \"application/vnd.github.v3+json\",\n",
    "    }\n",
    "\n",
    "    response = request(\"GET\", url, headers=headers)\n",
    "    if response.status_code == 200:\n",
    "        return json.loads(response.content)\n",
    "    else:        \n",
    "        return None\n",
    "\n",
    "def get_request(type):\n",
    "    \"\"\"[summary]\n",
    "\n",
    "    Parameters\n",
    "    ----------\n",
    "    type : [type]\n",
    "        [description]\n",
    "\n",
    "    Returns\n",
    "    -------\n",
    "    [type]\n",
    "        [description]\n",
    "    \"\"\"\n",
    "\n",
    "\n",
    "    assert type in [\"projects\", \"issues\"], \"Unrecognized type, input can be 'projects' or 'issues'\"\n",
    "    if type == \"project\":\n",
    "        url = f\"https://api.github.com/repos/{REPO_OWNER}/{REPO_NAME}/projects\"\n",
    "    elif type == \"issues\":\n",
    "        url = f\"https://api.github.com/repos/{REPO_OWNER}/{REPO_NAME}/issues\"\n",
    "\n",
    "\n",
    "    headers = {\n",
    "        \"Authorization\": f\"token {TOKEN}\",\n",
    "        \"Accept\": \"application/vnd.github.v3+json\",\n",
    "    }\n",
    "\n",
    "    response = request(\"GET\", url, headers=headers)\n",
    "    if response.status_code == 200:\n",
    "        return json.loads(response.content)\n",
    "    else:        \n",
    "        return None\n",
    "\n"
   ]
  },
  {
   "cell_type": "code",
   "execution_count": null,
   "metadata": {},
   "outputs": [],
   "source": [
    "issues = get_issues()\n",
    "\n",
    "projects = get_projects()\n",
    "\n",
    "print(projects)\n",
    "\n",
    "# Find project ID\n",
    "for project in projects:\n",
    "\n",
    "    # Find project id\n",
    "    if project[\"name\"] == \"FAIR software\":\n",
    "        project_id = project[\"id\"]\n",
    "        print(project_id)\n",
    "\n",
    "\n"
   ]
  },
  {
   "cell_type": "markdown",
   "metadata": {},
   "source": [
    "Create columns in a project"
   ]
  },
  {
   "cell_type": "code",
   "execution_count": null,
   "metadata": {},
   "outputs": [],
   "source": [
    "url = f\"https://api.github.com/projects/{project_id}/columns\"\n",
    "headers = {\n",
    "        \"Authorization\": f\"token {TOKEN}\",\n",
    "        \"Accept\": \"application/vnd.github.v3+json\",\n",
    "    }\n",
    "columns = [\"To do\", \"In progress\", \"Done\"]\n",
    "\n",
    "for column in columns:\n",
    "    data = {\"name\": column}\n",
    "    payload = json.dumps(data)\n",
    "    post_request(url, payload, headers) \n",
    "\n"
   ]
  },
  {
   "cell_type": "markdown",
   "metadata": {},
   "source": [
    "### Find IDs for columns"
   ]
  },
  {
   "cell_type": "code",
   "execution_count": 38,
   "metadata": {},
   "outputs": [
    {
     "name": "stdout",
     "output_type": "stream",
     "text": [
      "To do : 17298006\n",
      "In progress : 17298007\n",
      "Done : 17298008\n"
     ]
    }
   ],
   "source": [
    "# Find all column id's in project board\n",
    "columns_url = f\"https://api.github.com/projects/{id_project}/columns\"\n",
    "headers = {\n",
    "        \"Authorization\": f\"token {TOKEN}\",\n",
    "        \"Accept\": \"application/vnd.github.v3+json\",\n",
    "    }\n",
    "\n",
    "response = request(\"GET\", columns_url, headers=headers)\n",
    "if response.status_code == 200:\n",
    "    columns = json.loads(response.content)\n",
    "\n",
    "# print(columns)\n",
    "\n",
    "for column in columns:\n",
    "    print(column[\"name\"], \":\", column[\"id\"])\n",
    "    if column[\"name\"] == \"To do\":\n",
    "        column_id = column[\"id\"]"
   ]
  },
  {
   "cell_type": "markdown",
   "metadata": {},
   "source": [
    "### Add issues to column"
   ]
  },
  {
   "cell_type": "code",
   "execution_count": null,
   "metadata": {},
   "outputs": [],
   "source": [
    "url = f\"https://api.github.com/projects/columns/{column_id}/cards\"\n",
    "headers = {\n",
    "        \"Authorization\": f\"token {TOKEN}\",\n",
    "        \"Accept\": \"application/vnd.github.v3+json\",\n",
    "    }\n",
    "\n",
    "issues = get_issues()\n",
    "\n",
    "issue_names = [\"First issue\", \"Second issue\"]\n",
    "issue_ids = []\n",
    "# Collect issue id's\n",
    "for issue in issues:\n",
    "    if issue[\"title\"] in issue_names:\n",
    "        issue_ids.append(issue[\"id\"])\n",
    "\n",
    "\n",
    "for id in issue_ids:\n",
    "    data = {\"content_type\":\"Issue\", \"content_id\": id}\n",
    "    payload = json.dumps(data)\n",
    "    post_request(url, payload, headers)\n"
   ]
  },
  {
   "cell_type": "code",
   "execution_count": 39,
   "metadata": {},
   "outputs": [
    {
     "ename": "NameError",
     "evalue": "name 'get_issues' is not defined",
     "output_type": "error",
     "traceback": [
      "\u001b[1;31m---------------------------------------------------------------------------\u001b[0m",
      "\u001b[1;31mNameError\u001b[0m                                 Traceback (most recent call last)",
      "\u001b[1;32m~\\AppData\\Local\\Temp/ipykernel_21796/1361125518.py\u001b[0m in \u001b[0;36m<module>\u001b[1;34m\u001b[0m\n\u001b[1;32m----> 1\u001b[1;33m \u001b[0missues\u001b[0m \u001b[1;33m=\u001b[0m \u001b[0mget_issues\u001b[0m\u001b[1;33m(\u001b[0m\u001b[1;33m)\u001b[0m\u001b[1;33m\u001b[0m\u001b[1;33m\u001b[0m\u001b[0m\n\u001b[0m",
      "\u001b[1;31mNameError\u001b[0m: name 'get_issues' is not defined"
     ]
    }
   ],
   "source": [
    "issues = get_issues()"
   ]
  },
  {
   "cell_type": "code",
   "execution_count": null,
   "metadata": {},
   "outputs": [],
   "source": []
  }
 ],
 "metadata": {
  "interpreter": {
   "hash": "fdb37610107fbc9730a738174bb5bafaabf4ebf4d3f01b4c826144ef43629eaa"
  },
  "kernelspec": {
   "display_name": "Python 3.8.5 64-bit ('base': conda)",
   "language": "python",
   "name": "python3"
  },
  "language_info": {
   "codemirror_mode": {
    "name": "ipython",
    "version": 3
   },
   "file_extension": ".py",
   "mimetype": "text/x-python",
   "name": "python",
   "nbconvert_exporter": "python",
   "pygments_lexer": "ipython3",
   "version": "3.8.5"
  },
  "orig_nbformat": 4
 },
 "nbformat": 4,
 "nbformat_minor": 2
}
