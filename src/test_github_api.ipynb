{
 "cells": [
  {
   "cell_type": "code",
   "execution_count": 1,
   "metadata": {},
   "outputs": [],
   "source": [
    "import os\n",
    "from GithubAPI import GitHubAPI"
   ]
  },
  {
   "cell_type": "code",
   "execution_count": 2,
   "metadata": {},
   "outputs": [
    {
     "name": "stdout",
     "output_type": "stream",
     "text": [
      "Authentication successful to https://api.github.com/repos/mwakok/test\n"
     ]
    }
   ],
   "source": [
    "token = os.environ[\"GITHUB_TOKEN\"]\n",
    "test = GitHubAPI(repo_name=\"test\", repo_owner=\"mwakok\", github_token=token)"
   ]
  },
  {
   "cell_type": "code",
   "execution_count": 3,
   "metadata": {},
   "outputs": [],
   "source": [
    "test.get_projects()\n"
   ]
  },
  {
   "cell_type": "code",
   "execution_count": 4,
   "metadata": {},
   "outputs": [
    {
     "data": {
      "text/plain": [
       "{'FAIR Software': 13943665}"
      ]
     },
     "execution_count": 4,
     "metadata": {},
     "output_type": "execute_result"
    }
   ],
   "source": [
    "test.projects"
   ]
  },
  {
   "cell_type": "code",
   "execution_count": 5,
   "metadata": {},
   "outputs": [],
   "source": [
    "test.get_issues()"
   ]
  },
  {
   "cell_type": "code",
   "execution_count": 6,
   "metadata": {},
   "outputs": [
    {
     "name": "stdout",
     "output_type": "stream",
     "text": [
      "Issue 'Checklist for FAIR research software' imported from file '01_FAIR_checklist.md'\n",
      "Issue 'Implement a testing framework' imported from file '02_tests.md'\n",
      "Issue 'Add a CONTRIBUTING file' imported from file '03_contributing.md'\n"
     ]
    }
   ],
   "source": [
    "test.import_markdown(path=\"../issues\")"
   ]
  },
  {
   "cell_type": "code",
   "execution_count": 7,
   "metadata": {},
   "outputs": [
    {
     "name": "stdout",
     "output_type": "stream",
     "text": [
      "Project 'FAIR Software' already exists\n"
     ]
    }
   ],
   "source": [
    "test.push_project(project_name=\"FAIR Software\")"
   ]
  },
  {
   "cell_type": "code",
   "execution_count": 8,
   "metadata": {},
   "outputs": [
    {
     "name": "stdout",
     "output_type": "stream",
     "text": [
      "Issue 'Checklist for FAIR research software' already exists\n",
      "Issue 'Implement a testing framework' already exists\n",
      "Issue 'Add a CONTRIBUTING file' already exists\n"
     ]
    }
   ],
   "source": [
    "test.push_issues()"
   ]
  },
  {
   "cell_type": "code",
   "execution_count": 9,
   "metadata": {},
   "outputs": [
    {
     "name": "stdout",
     "output_type": "stream",
     "text": [
      "17306906\n",
      "[1087203380, 1087203388, 1087203386]\n",
      "Successfully posted the request\n",
      "Successfully posted the request\n",
      "Successfully posted the request\n"
     ]
    }
   ],
   "source": [
    "test.move_issues_to_project(project_name=\"FAIR Software\")"
   ]
  }
 ],
 "metadata": {
  "interpreter": {
   "hash": "fdb37610107fbc9730a738174bb5bafaabf4ebf4d3f01b4c826144ef43629eaa"
  },
  "kernelspec": {
   "display_name": "Python 3.8.5 64-bit ('base': conda)",
   "language": "python",
   "name": "python3"
  },
  "language_info": {
   "codemirror_mode": {
    "name": "ipython",
    "version": 3
   },
   "file_extension": ".py",
   "mimetype": "text/x-python",
   "name": "python",
   "nbconvert_exporter": "python",
   "pygments_lexer": "ipython3",
   "version": "3.8.5"
  },
  "orig_nbformat": 4
 },
 "nbformat": 4,
 "nbformat_minor": 2
}
